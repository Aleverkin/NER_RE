{
 "cells": [
  {
   "cell_type": "code",
   "execution_count": 16,
   "id": "9221d095",
   "metadata": {},
   "outputs": [
    {
     "name": "stdout",
     "output_type": "stream",
     "text": [
      "The autoreload extension is already loaded. To reload it, use:\n",
      "  %reload_ext autoreload\n"
     ]
    }
   ],
   "source": [
    "%load_ext autoreload\n",
    "%autoreload 2\n",
    "\n",
    "import brat_format\n",
    "import os\n",
    "from nltk.tokenize import sent_tokenize\n",
    "import pickle \n",
    "\n",
    "import pandas as pd"
   ]
  },
  {
   "cell_type": "code",
   "execution_count": 17,
   "id": "5bbaba8c",
   "metadata": {},
   "outputs": [],
   "source": [
    "ner_types = {\"OUT\", \"ACT\", \"BIN\", \"CMP\", \"ECO\", \"INST\", \"MET\", \"SOC\", \"QUA\"}\n",
    "# rel_types = {\"NNG\", \"NNT\", \"NPS\", \"FNG\", \"FNT\", \"FPS\", \"PNG\", \"PNT\", \"PPS\", \"GOL\", \"TSK\"}"
   ]
  },
  {
   "cell_type": "markdown",
   "id": "76e9551b",
   "metadata": {},
   "source": [
    "## Читаю данные"
   ]
  },
  {
   "cell_type": "code",
   "execution_count": 18,
   "id": "49b8ec16",
   "metadata": {},
   "outputs": [],
   "source": [
    "def read_data(ann_file):\n",
    "    br_doc = brat_format.read_file(ann_file)\n",
    "    segs = sent_tokenize(br_doc.txt_data, language=\"russian\")\n",
    "\n",
    "    count_chars = 0\n",
    "    ners_text = []\n",
    "    rels_text = []\n",
    "    for seg in segs:\n",
    "        while br_doc.txt_data[count_chars] != seg[0]:\n",
    "            count_chars += 1\n",
    "        end_seg = count_chars + len(seg)\n",
    "        \n",
    "        ners_this_seg = [(ent[0] - count_chars, ent[1] - count_chars, ent[2]) for ent in br_doc.ners]\n",
    "        rels_this_seg = [(rel[0] - count_chars, rel[1] - count_chars, rel[2]) for rel in br_doc.rels]\n",
    "        \n",
    "#         ners_this_seg = []\n",
    "#         while br_doc.ners and br_doc.ners[0][1] <= end_seg:\n",
    "#             ent = br_doc.ners.pop(0)\n",
    "#             ners_this_seg.append((ent[0] - count_chars, ent[1] - count_chars, ent[2]))\n",
    "        \n",
    "#         while br_doc.ners and br_doc.ners[0][1] <= end_seg:\n",
    "#             rels = br_doc.rels.pop(0)\n",
    "#             rels_this_seg.append((ent[0] - count_chars, ent[1] - count_chars, ent[2]))\n",
    "\n",
    "        count_chars += len(seg)\n",
    "    \n",
    "        ners_text.append(ners_this_seg)\n",
    "        rels_text.append(rels_this_seg)\n",
    "    \n",
    "    return segs, ners_text, rels_text"
   ]
  },
  {
   "cell_type": "code",
   "execution_count": null,
   "id": "51d6c0f4",
   "metadata": {},
   "outputs": [],
   "source": []
  },
  {
   "cell_type": "markdown",
   "id": "8c45b098",
   "metadata": {},
   "source": [
    "## READ TRAIN_VAL"
   ]
  },
  {
   "cell_type": "code",
   "execution_count": 19,
   "id": "4fe61891",
   "metadata": {},
   "outputs": [
    {
     "name": "stdout",
     "output_type": "stream",
     "text": [
      "10631 10631 10631\n"
     ]
    }
   ],
   "source": [
    "train_val_texts, train_val_ners, train_val_relations = [], [] , []\n",
    "\n",
    "for i in range(1, 4):\n",
    "    PATH = f'train_data/train_part_{i}/train_part_{i}/'\n",
    "\n",
    "    list_files = os.listdir(PATH)\n",
    "    ann_files = [x for x in list_files if x.endswith('ann')]\n",
    "    \n",
    "    for ann_file in ann_files:\n",
    "        segs, ners, rels = read_data(PATH + ann_file)\n",
    "        \n",
    "        train_val_texts += segs\n",
    "        train_val_ners += ners\n",
    "        train_val_relations += rels \n",
    "    \n",
    "print(len(train_val_texts), len(train_val_ners), len(train_val_relations))"
   ]
  },
  {
   "cell_type": "code",
   "execution_count": 25,
   "id": "6440b932",
   "metadata": {},
   "outputs": [
    {
     "name": "stdout",
     "output_type": "stream",
     "text": [
      "86 \n",
      "\n",
      " ( в ред. Постановлений Правительства РК от 12.03.2018 N 127 , от 25.01.2019 N 21 ) \n",
      "2. \n",
      "\n"
     ]
    }
   ],
   "source": [
    "i = 20\n",
    "\n",
    "print(len(train_val_texts[i]), '\\n\\n', train_val_texts[i])"
   ]
  },
  {
   "cell_type": "code",
   "execution_count": 27,
   "id": "06744a69",
   "metadata": {},
   "outputs": [
    {
     "name": "stdout",
     "output_type": "stream",
     "text": [
      " ECO\n"
     ]
    }
   ],
   "source": [
    "for ner in train_val_ners[i]:\n",
    "    print(train_val_texts[i][ner[0]: ner[1]], ner[2])\n",
    "    break"
   ]
  },
  {
   "cell_type": "code",
   "execution_count": 28,
   "id": "94963cda",
   "metadata": {},
   "outputs": [
    {
     "data": {
      "text/plain": [
       "[(-2324, -2296, 'ECO'),\n",
       " (-2065, -2021, 'ECO'),\n",
       " (-2001, -1985, 'ECO'),\n",
       " (-1797, -1780, 'ECO'),\n",
       " (-1571, -1560, 'BIN'),\n",
       " (-931, -917, 'BIN'),\n",
       " (-704, -673, 'INST'),\n",
       " (-507, -470, 'INST'),\n",
       " (136, 151, 'MET'),\n",
       " (327, 379, 'INST'),\n",
       " (940, 951, 'QUA'),\n",
       " (1085, 1129, 'ACT'),\n",
       " (1130, 1144, 'BIN'),\n",
       " (1169, 1207, 'INST'),\n",
       " (1673, 1687, 'BIN'),\n",
       " (1905, 1936, 'INST'),\n",
       " (2053, 2090, 'INST'),\n",
       " (2696, 2711, 'MET'),\n",
       " (2811, 2841, 'INST'),\n",
       " (3507, 3518, 'QUA'),\n",
       " (3736, 3749, 'INST'),\n",
       " (3752, 3790, 'INST'),\n",
       " (4356, 4370, 'BIN'),\n",
       " (4701, 4732, 'INST'),\n",
       " (4849, 4886, 'INST'),\n",
       " (5492, 5507, 'MET'),\n",
       " (5607, 5637, 'INST'),\n",
       " (-2385, -2353, 'ECO'),\n",
       " (-2269, -2253, 'INST'),\n",
       " (-2219, -2198, 'ECO'),\n",
       " (-1982, -1967, 'ECO'),\n",
       " (-1962, -1952, 'BIN'),\n",
       " (-1896, -1880, 'INST'),\n",
       " (-1760, -1750, 'BIN'),\n",
       " (-1699, -1683, 'INST'),\n",
       " (-1649, -1627, 'ECO'),\n",
       " (-1548, -1538, 'BIN'),\n",
       " (-1464, -1448, 'INST'),\n",
       " (-1362, -1355, 'SOC'),\n",
       " (-1352, -1341, 'BIN'),\n",
       " (-1340, -1328, 'SOC'),\n",
       " (-1296, -1282, 'BIN'),\n",
       " (-1278, -1254, 'ECO'),\n",
       " (-1236, -1227, 'ECO'),\n",
       " (-1223, -1210, 'BIN'),\n",
       " (-913, -889, 'ECO'),\n",
       " (-872, -842, 'ECO'),\n",
       " (-841, -832, 'ECO'),\n",
       " (-828, -815, 'BIN'),\n",
       " (-534, -525, 'ECO'),\n",
       " (-522, -508, 'BIN'),\n",
       " (-459, -447, 'INST'),\n",
       " (-426, -375, 'ECO'),\n",
       " (-356, -316, 'ECO'),\n",
       " (-287, -265, 'ECO'),\n",
       " (-262, -232, 'ECO'),\n",
       " (-213, -201, 'INST'),\n",
       " (-93, -70, 'ECO'),\n",
       " (23, 39, 'INST'),\n",
       " (88, 100, 'BIN'),\n",
       " (101, 110, 'ECO'),\n",
       " (208, 224, 'INST'),\n",
       " (390, 420, 'INST'),\n",
       " (438, 450, 'INST'),\n",
       " (459, 471, 'BIN'),\n",
       " (472, 514, 'ECO'),\n",
       " (555, 568, 'INST'),\n",
       " (604, 616, 'INST'),\n",
       " (619, 673, 'ECO'),\n",
       " (735, 748, 'QUA'),\n",
       " (766, 778, 'INST'),\n",
       " (813, 843, 'INST'),\n",
       " (851, 869, 'ECO'),\n",
       " (879, 887, 'QUA'),\n",
       " (966, 983, 'ECO'),\n",
       " (991, 1001, 'BIN'),\n",
       " (1002, 1021, 'ACT'),\n",
       " (1273, 1280, 'SOC'),\n",
       " (1283, 1294, 'BIN'),\n",
       " (1295, 1307, 'SOC'),\n",
       " (1339, 1353, 'BIN'),\n",
       " (1357, 1381, 'ECO'),\n",
       " (1399, 1408, 'ECO'),\n",
       " (1412, 1425, 'BIN'),\n",
       " (1691, 1715, 'ECO'),\n",
       " (1732, 1748, 'ECO'),\n",
       " (1749, 1758, 'ECO'),\n",
       " (1762, 1775, 'BIN'),\n",
       " (2026, 2035, 'ECO'),\n",
       " (2101, 2113, 'INST'),\n",
       " (2134, 2185, 'ECO'),\n",
       " (2204, 2244, 'ECO'),\n",
       " (2272, 2294, 'ECO'),\n",
       " (2297, 2327, 'ECO'),\n",
       " (2347, 2359, 'INST'),\n",
       " (2467, 2490, 'ECO'),\n",
       " (2583, 2599, 'INST'),\n",
       " (2648, 2660, 'BIN'),\n",
       " (2661, 2670, 'ECO'),\n",
       " (2671, 2685, 'BIN'),\n",
       " (2768, 2784, 'INST'),\n",
       " (2870, 2900, 'INST'),\n",
       " (3005, 3017, 'INST'),\n",
       " (3026, 3038, 'BIN'),\n",
       " (3039, 3081, 'ECO'),\n",
       " (3122, 3135, 'INST'),\n",
       " (3171, 3183, 'INST'),\n",
       " (3186, 3238, 'ECO'),\n",
       " (3268, 3279, 'BIN'),\n",
       " (3302, 3315, 'QUA'),\n",
       " (3333, 3345, 'INST'),\n",
       " (3380, 3410, 'INST'),\n",
       " (3418, 3436, 'ECO'),\n",
       " (3446, 3454, 'QUA'),\n",
       " (3533, 3550, 'ECO'),\n",
       " (3558, 3568, 'BIN'),\n",
       " (3569, 3588, 'ACT'),\n",
       " (3652, 3696, 'ACT'),\n",
       " (3697, 3711, 'BIN'),\n",
       " (3856, 3863, 'SOC'),\n",
       " (3866, 3877, 'BIN'),\n",
       " (3878, 3890, 'SOC'),\n",
       " (3922, 3936, 'BIN'),\n",
       " (3940, 3964, 'ECO'),\n",
       " (3982, 3991, 'ECO'),\n",
       " (3995, 4008, 'BIN'),\n",
       " (4066, 4080, 'BIN'),\n",
       " (4081, 4090, 'ECO'),\n",
       " (4092, 4110, 'ECO'),\n",
       " (4114, 4127, 'BIN'),\n",
       " (4374, 4398, 'ECO'),\n",
       " (4415, 4445, 'ECO'),\n",
       " (4446, 4455, 'ECO'),\n",
       " (4459, 4472, 'BIN'),\n",
       " (4530, 4544, 'BIN'),\n",
       " (4545, 4554, 'ECO'),\n",
       " (4555, 4573, 'ECO'),\n",
       " (4577, 4590, 'BIN'),\n",
       " (4822, 4831, 'ECO'),\n",
       " (4834, 4848, 'BIN'),\n",
       " (4897, 4909, 'INST'),\n",
       " (4930, 4981, 'ECO'),\n",
       " (5000, 5040, 'ECO'),\n",
       " (5068, 5090, 'ECO'),\n",
       " (5093, 5123, 'ECO'),\n",
       " (5143, 5155, 'INST'),\n",
       " (5263, 5286, 'ECO'),\n",
       " (5379, 5395, 'INST'),\n",
       " (5444, 5456, 'BIN'),\n",
       " (5457, 5466, 'ECO'),\n",
       " (5467, 5481, 'BIN'),\n",
       " (5564, 5580, 'INST'),\n",
       " (5666, 5696, 'INST'),\n",
       " (5801, 5813, 'INST'),\n",
       " (5822, 5834, 'BIN'),\n",
       " (5835, 5877, 'ECO'),\n",
       " (5918, 5931, 'INST'),\n",
       " (5967, 5979, 'INST'),\n",
       " (5982, 6036, 'ECO'),\n",
       " (6064, 6075, 'BIN')]"
      ]
     },
     "execution_count": 28,
     "metadata": {},
     "output_type": "execute_result"
    }
   ],
   "source": [
    "train_val_ners[20]"
   ]
  },
  {
   "cell_type": "code",
   "execution_count": null,
   "id": "56bd464e",
   "metadata": {},
   "outputs": [],
   "source": []
  },
  {
   "cell_type": "code",
   "execution_count": null,
   "id": "d390336f",
   "metadata": {},
   "outputs": [],
   "source": []
  },
  {
   "cell_type": "code",
   "execution_count": null,
   "id": "3807e069",
   "metadata": {},
   "outputs": [],
   "source": []
  },
  {
   "cell_type": "code",
   "execution_count": null,
   "id": "b036ad8d",
   "metadata": {},
   "outputs": [],
   "source": []
  },
  {
   "cell_type": "code",
   "execution_count": null,
   "id": "67e05ff9",
   "metadata": {},
   "outputs": [],
   "source": []
  },
  {
   "cell_type": "code",
   "execution_count": null,
   "id": "c6a22f12",
   "metadata": {},
   "outputs": [],
   "source": []
  }
 ],
 "metadata": {
  "kernelspec": {
   "display_name": "sber_emb",
   "language": "python",
   "name": "sber_emb"
  },
  "language_info": {
   "codemirror_mode": {
    "name": "ipython",
    "version": 3
   },
   "file_extension": ".py",
   "mimetype": "text/x-python",
   "name": "python",
   "nbconvert_exporter": "python",
   "pygments_lexer": "ipython3",
   "version": "3.6.13"
  }
 },
 "nbformat": 4,
 "nbformat_minor": 5
}
