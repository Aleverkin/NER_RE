{
 "cells": [
  {
   "cell_type": "code",
   "execution_count": 1,
   "id": "9221d095",
   "metadata": {},
   "outputs": [],
   "source": [
    "import brat_format\n",
    "import os\n",
    "from nltk.tokenize import sent_tokenize\n",
    "import pickle \n",
    "\n",
    "import pandas as pd"
   ]
  },
  {
   "cell_type": "code",
   "execution_count": 2,
   "id": "5bbaba8c",
   "metadata": {},
   "outputs": [],
   "source": [
    "ner_types = {\"OUT\", \"ACT\", \"BIN\", \"CMP\", \"ECO\", \"INST\", \"MET\", \"SOC\", \"QUA\"}\n",
    "# rel_types = {\"NNG\", \"NNT\", \"NPS\", \"FNG\", \"FNT\", \"FPS\", \"PNG\", \"PNT\", \"PPS\", \"GOL\", \"TSK\"}"
   ]
  },
  {
   "cell_type": "markdown",
   "id": "76e9551b",
   "metadata": {},
   "source": [
    "## Читаю данные"
   ]
  },
  {
   "cell_type": "code",
   "execution_count": 56,
   "id": "4ad6ca31",
   "metadata": {},
   "outputs": [],
   "source": [
    "def read_data(ann_file):\n",
    "    br_doc = brat_format.read_file(ann_file)\n",
    "    segs = sent_tokenize(br_doc.txt_data, language=\"russian\")\n",
    "\n",
    "    count_chars = 0\n",
    "    cnt_global_ners = 0\n",
    "    ners_text = []\n",
    "    for i in range(len(segs)):\n",
    "        seg = segs[i]\n",
    "\n",
    "        while br_doc.txt_data[count_chars] != seg[0]:\n",
    "            count_chars += 1\n",
    "\n",
    "        end_seg = count_chars + len(seg)\n",
    "        ners_this_seg = []\n",
    "        while br_doc.ners and br_doc.ners[0][1] <= end_seg:\n",
    "            ent = br_doc.ners.pop(0)\n",
    "            #print(ent)\n",
    "            ners_this_seg.append((ent[0] - count_chars, ent[1] - count_chars, ent[2]))\n",
    "\n",
    "        count_chars += len(seg)\n",
    "        ners_text.append(ners_this_seg)\n",
    "\n",
    "    #     print('-' * 20, 'NER', '-' * 20)\n",
    "    #     for ner in ners_this_seg:\n",
    "    #         print(ner[0], ner[1], seg[ner[0]: ner[1]], ner[2])\n",
    "\n",
    "    #     print('\\n\\n\\n')\n",
    "    \n",
    "    return segs, ners_text"
   ]
  },
  {
   "cell_type": "markdown",
   "id": "8c45b098",
   "metadata": {},
   "source": [
    "## READ TRAIN_VAL"
   ]
  },
  {
   "cell_type": "code",
   "execution_count": 57,
   "id": "08b6b648",
   "metadata": {},
   "outputs": [
    {
     "name": "stdout",
     "output_type": "stream",
     "text": [
      "10631 10631\n"
     ]
    }
   ],
   "source": [
    "train_val_texts, train_val_ners = [], [] \n",
    "\n",
    "for i in range(1, 4):\n",
    "    PATH = f'train_data/train_part_{i}/train_part_{i}/'\n",
    "    texts = []\n",
    "    ners = []\n",
    "\n",
    "    list_files = os.listdir(PATH)\n",
    "    ann_files = [x for x in list_files if x.endswith('ann')]\n",
    "    \n",
    "    for ann_file in ann_files:\n",
    "        segs, ners_file = read_data(PATH + ann_file)\n",
    "        \n",
    "        texts += segs\n",
    "        ners += ners_file\n",
    "    \n",
    "    train_val_texts += texts\n",
    "    train_val_ners += ners\n",
    "    \n",
    "print(len(train_val_texts), len(train_val_ners))"
   ]
  },
  {
   "cell_type": "code",
   "execution_count": 58,
   "id": "06744a69",
   "metadata": {},
   "outputs": [
    {
     "name": "stdout",
     "output_type": "stream",
     "text": [
      "295 \n",
      "\n",
      " Всего за 2015 год в районе:\n",
      " - введено   в эксплуатацию  - 18544 кв.м. площади, в т.ч. \n",
      "- 11090 кв. м. жилой, \n",
      "- выдано 153 разрешения на строительство, реконструкцию, капитальный ремонт объектов социальной сферы, жилых домов, газовых и электрических сетей,\n",
      "- введено в эксплуатацию 50 объектов. \n",
      "\n",
      "введено   в эксплуатацию BIN\n",
      "выдано BIN\n",
      "разрешения на строительство, реконструкцию, капитальный ремонт объектов социальной сферы, жилых домов, газовых и электрических сетей ACT\n",
      "введено в эксплуатацию BIN\n"
     ]
    }
   ],
   "source": [
    "i = 343\n",
    "\n",
    "print(len(train_val_texts[i]), '\\n\\n', train_val_texts[i], '\\n')\n",
    "\n",
    "for ner in train_val_ners[i]:\n",
    "    print(train_val_texts[i][ner[0]: ner[1]], ner[2])"
   ]
  },
  {
   "cell_type": "code",
   "execution_count": null,
   "id": "94963cda",
   "metadata": {},
   "outputs": [],
   "source": []
  }
 ],
 "metadata": {
  "kernelspec": {
   "display_name": "sber_emb",
   "language": "python",
   "name": "sber_emb"
  },
  "language_info": {
   "codemirror_mode": {
    "name": "ipython",
    "version": 3
   },
   "file_extension": ".py",
   "mimetype": "text/x-python",
   "name": "python",
   "nbconvert_exporter": "python",
   "pygments_lexer": "ipython3",
   "version": "3.6.13"
  }
 },
 "nbformat": 4,
 "nbformat_minor": 5
}
